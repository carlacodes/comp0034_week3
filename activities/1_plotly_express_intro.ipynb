{
 "cells": [
  {
   "cell_type": "markdown",
   "metadata": {
    "collapsed": true
   },
   "source": [
    "# Introduction to plotly express\n",
    "[Plotly Express](https://plotly.com/python/plotly-express/) is a high level API for creating charts using Python. By high level, we mean that the much of the complexity of the code required to create a chart, such as you saw with matplotlib, is hidden from you and provided by the API, allowing you to create charts with less code. It also allows you to create interactive charts, i.e. those that the user can interact with, such as the example you saw in week 1 with the animated bubble chart using the gapminder data. In fact you used the plotly express library to create that chart.\n",
    "\n",
    "We are using plotly express this week to introduce you to the plotly syntax and introduce some interactive chart types. Next week we will take this to the next level and a web framework, Plotly Dash, to create interactive dashboards that can be delivered as web apps.\n",
    "\n",
    "You might recall that JavaScript (not Python) is used to add interactive elements to a web page. So why are you learning Plotly? Plotly uses D3.js behind the scenes. D3.js is a JavaScript library for producing dynamic, interactive data visualizations in web browsers. Why don't we just learn D3.js then? Well, we could, but it would mean learning another programming language, JavaScript, whereas the foundation language in this IEP minor is Python (and Python is more widely used in data science than JavaScript).\n",
    "\n",
    "Plotly express is now a module in the plotly Python package, though it used to be a separate package. Plotly.py is an open-source library built on plotly.js which in turn is built on d3.js. To add a further source of confusion, there are numerous third party wrappers for Plotly for different languages.\n",
    "\n",
    "The plotly express API also includes access to [some datasets](https://plotly.com/python-api-reference/generated/plotly.data.html#module-plotly.data), two of which we have already used (gapminder and iris). We will use some of their other built in datasets in this exercise.\n",
    "\n",
    "The use of Plotly Express is recommended by Plotly in their ebook 'Top 10 Dash Enterprise Tips & Tricks':\n",
    "\n",
    "\"**Tip 3 Import Plotly Express to save time when updating figures**\n",
    "Plotly Express is a high-level Python visualization library and wrapper for Plotly.py that exposes a simple syntax for complex charts. Users can create figures using Plotly Express one-line functions in addition to the traditional graph objects data and layout syntax. It allows the user to focus on the higher callback logic of their Dash app rather than get stuck in the details of the data visualization layer. One example of a Plotly Express shortcut is for creating and updating figures in Python. After importing Plotly Express, you can create and update figures faster with just a few lines of code using the .update_* and .add_* functions.\"\n",
    " \n",
    "### Getting help\n",
    "The [online documentation](https://plotly.com/python/plotly-express/#highlevel-features) gives lots of examples of how to create different chart types. You will need to make use of this.\n",
    "The [Plotly community forum](https://community.plotly.com/) also has posts you can search and you can post your own questions.\n",
    "The current version of Plotly.py at the time of writing this is 4.9. Some of the examples you may find online are from much earlier versions and the code is likely to need to be adapted to work wuth the current version.\n",
    "\n",
    "## Getting started\n",
    "\n",
    "Let's get on with some coding.\n",
    "\n",
    "You should already have installed the libraries for this week from requirements.txt in GitHub repository. If not then you will need to install plotly into your Python environment first using `pip install plotly`.\n",
    "\n",
    "The first step is to import the necessary libraries for use in this notebook. You will need to import pandas to create a dataframe, and plotly express to create the charts (note it is possible to create charts just using [pandas](https://pandas.pydata.org/pandas-docs/stable/reference/api/pandas.DataFrame.plot.bar.html) though we won't cover that here)."
   ]
  },
  {
   "cell_type": "code",
   "execution_count": null,
   "metadata": {},
   "outputs": [],
   "source": [
    "# Import pandas and plotly express\n",
    "import pandas as pd\n",
    "import plotly.express as px\n",
    "# You need to uncomment the following two lines if you are using PyCharm\n",
    "import plotly.io as pio\n",
    "pio.renderers.default = \"notebook\"\n",
    "\n",
    "# Create a variable called df that is a pandas dataframe\n",
    "df1 = pd.DataFrame({'label':['A', 'B', 'C'], 'value':[10, 30, 20]})\n",
    "\n",
    "# Display the contents of the dataframe\n",
    "df1"
   ]
  },
  {
   "cell_type": "code",
   "execution_count": null,
   "metadata": {
    "pycharm": {
     "name": "#%%\n"
    }
   },
   "outputs": [],
   "source": [
    "# Use Plotly Express to plot a bar chart\n",
    "fig = px.bar(df1, x=\"label\", y=\"value\")\n",
    "fig.show()"
   ]
  },
  {
   "cell_type": "markdown",
   "metadata": {},
   "source": [
    "### Styling charts\n",
    "There are the 4 ways you can style and customize figures made with Plotly Express:\n",
    "\n",
    "1. Control common parameters like width & height, titles, labeling and colors using built-in Plotly Express function arguments\n",
    "2. Updating the figure attributes using [update methods or by directly setting attributes](https://plotly.com/python/creating-and-updating-figures/)\n",
    "3. Using Plotly's [theming/templating mechanism](https://plotly.com/python/templates/) via the template argument to every Plotly Express function\n",
    "4. Setting default values for common parameters using px.defaults\n",
    "\n",
    "Try out the [examples from the Plotly documentation](https://plotly.com/python/styling-plotly-express/) in the following cells."
   ]
  },
  {
   "cell_type": "markdown",
   "metadata": {},
   "source": [
    "1. Using built-in plotly express styling\n",
    "\n",
    "Go to [this page](https://plotly.com/python/styling-plotly-express/#builtin-plotly-express-styling-arguments) and use the guidance to add a **title** to the chart in the cell below and change its size to 600 x 400px. You will need to run the cell first to see the chart and then run again when you have added the title and changed the size."
   ]
  },
  {
   "cell_type": "code",
   "execution_count": null,
   "metadata": {},
   "outputs": [],
   "source": [
    "df2 = px.data.tips()\n",
    "\n",
    "# Modify the following line to add a title and define the height and width of the chart\n",
    "fig2 = px.histogram(df2, x=\"day\", y=\"total_bill\", color=\"sex\")\n",
    "fig2.show()"
   ]
  },
  {
   "cell_type": "markdown",
   "metadata": {},
   "source": [
    "2. Using update methods\n",
    "\n",
    "Run the cell below.\n",
    "\n",
    "Read [the documentation here](https://plotly.com/python/creating-and-updating-figures/#adding-traces) - scroll a little to the plotly express example\n",
    "\n",
    "The example in the documentation uses the `.add_trace()` method which uses the plotly.go that we haven't imported. Instead we will use the same update method principle to add title and change the font size using the `.update_layout()` method e.g. \n",
    "\n",
    "`fig.update_layout(title_text=\"Sample Dataset - Updated\", title_font_size=20)`\n",
    "\n",
    "Run the cell again."
   ]
  },
  {
   "cell_type": "code",
   "execution_count": null,
   "metadata": {},
   "outputs": [],
   "source": [
    "df3 = px.data.iris()\n",
    "\n",
    "fig3 = px.scatter(df3, x=\"sepal_width\", y=\"sepal_length\", color=\"species\")\n",
    "\n",
    "# Use the fig.update_layout() method to add a title and change the font size\n",
    "\n",
    "fig3.show()"
   ]
  },
  {
   "cell_type": "markdown",
   "metadata": {},
   "source": [
    "3. Using Plotly's template argument\n",
    "\n",
    "Run the cell below.\n",
    "\n",
    "[Read the documentation on adding a theme to a plotly express chart](https://plotly.com/python/templates/#specifying-themes-in-plotly-express) to learn how to apply the template argument to every Plotly Express function\n",
    "\n",
    "Add the plotly_dark template to the chart.\n",
    "\n",
    "Run the cell again."
   ]
  },
  {
   "cell_type": "code",
   "execution_count": null,
   "metadata": {},
   "outputs": [],
   "source": [
    "# Generate some random data for the pie chart \n",
    "random_x = [100, 2000, 550] \n",
    "names = ['A', 'B', 'C'] \n",
    "\n",
    "# Add the template= parameter to the pie below to change the template to \"plotly_dark\"\n",
    "fig4 = px.pie(values=random_x, names=names, title=\"A random pie chart\") \n",
    "fig4.show()"
   ]
  },
  {
   "cell_type": "markdown",
   "metadata": {},
   "source": [
    "4. Setting default values for common parameters using px.defaults\n",
    "\n",
    "Run the cell below.\n",
    "\n",
    "Read the [documentation on setting styling defaults.](https://plotly.com/python/styling-plotly-express/#setting-plotly-express-styling-defaults)\n",
    "\n",
    "Set the default template to plotly_dark, set the default height and width each to 500px.\n",
    "\n",
    "Run the cell again\n"
   ]
  },
  {
   "cell_type": "code",
   "execution_count": null,
   "metadata": {},
   "outputs": [],
   "source": [
    "# Set the px default template to plotly_dark\n",
    "# set the px default height and width each to 500px.\n",
    "\n",
    "df = px.data.iris()\n",
    "fig = px.scatter(df, x=\"sepal_width\", y=\"sepal_length\", color=\"sepal_length\")\n",
    "fig.show()"
   ]
  },
  {
   "cell_type": "code",
   "execution_count": null,
   "metadata": {},
   "outputs": [],
   "source": []
  }
 ],
 "metadata": {
  "kernelspec": {
   "display_name": "Python 3",
   "language": "python",
   "name": "python3"
  },
  "language_info": {
   "codemirror_mode": {
    "name": "ipython",
    "version": 3
   },
   "file_extension": ".py",
   "mimetype": "text/x-python",
   "name": "python",
   "nbconvert_exporter": "python",
   "pygments_lexer": "ipython3",
   "version": "3.7.3"
  }
 },
 "nbformat": 4,
 "nbformat_minor": 1
}