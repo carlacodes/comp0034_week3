{
 "cells": [
  {
   "cell_type": "markdown",
   "metadata": {
    "collapsed": true
   },
   "source": [
    "# Introduction to choropleth maps with plotly express\n",
    "Choropleth maps display divided geographical areas or regions that are coloured, shaded or patterned in relation to a data variable. [Read the description of their use](https://datavizcatalogue.com/methods/choropleth.html) before moving on to the next code cell.\n",
    "\n",
    "The following example is copied from the [Plotly documentation](https://plotly.com/python/plotly-express/#maps).\n",
    "\n",
    "You may also need to read:\n",
    "\n",
    "- the [plotly express API documentation for choropleth_mapbox](https://plotly.com/python-api-reference/generated/plotly.express.choropleth_mapbox.html#plotly.express.choropleth_mapbox).\n",
    "- [a definition of geojson](https://geojson.org)"
   ]
  },
  {
   "cell_type": "code",
   "execution_count": null,
   "metadata": {},
   "outputs": [],
   "source": [
    "# Import plotly express\n",
    "import plotly.express as px\n",
    "\n",
    "# You need to uncomment the following two lines if you are using PyCharm\n",
    "import plotly.io as pio\n",
    "pio.renderers.default = \"notebook\"\n",
    "\n",
    "# Create a variable that contains the data using the election dataset provided by PlotlyExpress\n",
    "df = px.data.election()\n",
    "\n",
    "# Create a variable that contains the geojson data for the election dataset\n",
    "geojson = px.data.election_geojson()\n",
    "\n",
    "# Create a choropleth mapbox using plotly express\n",
    "fig = px.choropleth_mapbox(df, \n",
    "                           geojson=geojson, \n",
    "                           color=\"Bergeron\",\n",
    "                           locations=\"district\", \n",
    "                           featureidkey=\"properties.district\",\n",
    "                           center={\"lat\": 45.5517, \"lon\": -73.7073},\n",
    "                           mapbox_style=\"carto-positron\", \n",
    "                           zoom=9)\n",
    "fig.show()"
   ]
  },
  {
   "cell_type": "markdown",
   "metadata": {},
   "source": [
    "The next example introduces animation to create a gapminder data visulation similar to the one you saw in Hans Rosling's video in week 1."
   ]
  },
  {
   "cell_type": "code",
   "execution_count": null,
   "metadata": {},
   "outputs": [],
   "source": [
    "import plotly.express as px\n",
    "\n",
    "gapminder = px.data.gapminder()\n",
    "\n",
    "px.choropleth(gapminder,               \n",
    "              locations=\"iso_alpha\",               \n",
    "              color=\"lifeExp\",\n",
    "              hover_name=\"country\",  \n",
    "              animation_frame=\"year\",    \n",
    "              color_continuous_scale='Plasma',  \n",
    "              height=600\n",
    ")"
   ]
  },
  {
   "cell_type": "markdown",
   "metadata": {},
   "source": [
    "Use what you learned in the previous notebook activity to modify the code to add the following styling:\n",
    "- A suitable title for the chart\n",
    "- Apply the plotly_dark template"
   ]
  },
  {
   "cell_type": "code",
   "execution_count": null,
   "metadata": {},
   "outputs": [],
   "source": [
    "# Modify the following code and add\n",
    "#A suitable title for the chart\n",
    "#Apply the plotly_dark template\n",
    "\n",
    "import plotly.express as px\n",
    "gapminder = px.data.gapminder()\n",
    "px.choropleth(gapminder,               \n",
    "              locations=\"iso_alpha\",               \n",
    "              color=\"lifeExp\",\n",
    "              hover_name=\"country\",  \n",
    "              animation_frame=\"year\",    \n",
    "              color_continuous_scale='Plasma',  \n",
    "              height=600\n",
    ")"
   ]
  },
  {
   "cell_type": "markdown",
   "metadata": {},
   "source": [
    "### Create a choropleth map using England 2011 census data and local authority boundaries\n",
    "\n",
    "#### Data source\n",
    "The census boundary data was downloaded from [UK data service](https://census.ukdataservice.ac.uk/get-data/boundary-data.aspx)\n",
    "\n",
    "You can also get geo boundary data from the [office for national statistics (ONS)](https://geoportal.statistics.gov.uk/datasets/census-merged-local-authority-districts-december-2011-generalised-clipped-boundaries-in-great-britain).\n",
    "\n",
    "The geodata was converted to geojson using an [online conversion tool](https://odileeds.github.io/CSV2GeoJSON/).\n",
    "\n",
    "The 2011 census data was downloaded from [InFuse](https://infuse.ukdataservice.ac.uk).\n",
    "\n",
    "#### Geojson data\n",
    "In the previous examples we used default geo data using iso_alpha, for this example we only want UK local authorities drawn with boundaries as at the 2011 census.\n",
    "\n",
    "To do this we need to provide our own geojson.\n",
    "\n",
    "Plotly expects the geojson to have an id field, however if you run the next cell you will see that our data is indexed on LAD19CD.\n",
    "\n",
    "You could rename the JSON so LAD19CD is renamed as 'id'. Note: when converting the data using the csv to geodata converter there was also an option to change the field name.\n",
    "\n",
    "Plotly allows you to use a different name for the id field, however if you do that then you have to have a column of the same name in your dataframe. This is the approach taken in the cells below, where the index of the age dataframe is set to LAD19CD."
   ]
  },
  {
   "cell_type": "code",
   "execution_count": null,
   "metadata": {},
   "outputs": [],
   "source": [
    "#View the geojson data (takes a minute to run)\n",
    "import json\n",
    "\n",
    "with open('england_lad_2011.geojson') as json_file:\n",
    "    geojson = json.load(json_file)\n",
    "\n",
    "geojson"
   ]
  },
  {
   "cell_type": "code",
   "execution_count": null,
   "metadata": {},
   "outputs": [],
   "source": [
    "import plotly.express as px\n",
    "import pandas as pd\n",
    "import json\n",
    "\n",
    "\n",
    "# Read the data for the over 100's (F105) into a data frame skipping the second heading row\n",
    "age_data = pd.read_csv('la_age_data.csv', usecols=[\"GEO_CODE\", \"GEO_LABEL\", \"F105\"], skiprows=[1])\n",
    "# Reduce the data London\n",
    "london=['E09000002', 'E09000003', 'E09000004','E09000005','E09000006','E09000007','E09000008','E09000009','E09000010','E09000011','E09000012','E09000013','E09000014','E09000015','E09000016','E09000017','E09000018','E09000019','E09000020','E09000021','E09000022','E09000023','E09000024','E09000025','E09000026','E09000027','E09000028','E09000029','E09000030','E09000031','E09000032','E41000324']\n",
    "age_data = age_data[age_data['GEO_CODE'].isin(london)]\n",
    "\n",
    "# Get the json data\n",
    "with open('england_lad_2011.geojson') as json_file:\n",
    "    la_geojson = json.load(json_file)\n",
    "\n",
    "# Create the choropleth mapbox\n",
    "fig = px.choropleth_mapbox(age_data,\n",
    "                           geojson=la_geojson,\n",
    "                           locations=\"GEO_CODE\", \n",
    "                           featureidkey=\"properties.LAD19CD\",\n",
    "                           color=\"F105\",\n",
    "                           color_continuous_scale='Viridis',\n",
    "                           range_color=(0, 200),\n",
    "                           mapbox_style=\"carto-positron\",\n",
    "                           zoom=8,\n",
    "                           center = {\"lat\": 51.5074, \"lon\": 0.0000},\n",
    "                           opacity=0.5,\n",
    "                           hover_name=\"GEO_LABEL\",\n",
    "                           labels={'GEO_LABEL':'Local authority'},\n",
    "                           title=\"London residents over 100 in the 2011 Census\"\n",
    "                          )\n",
    "\n",
    "fig.show()"
   ]
  },
  {
   "cell_type": "markdown",
   "metadata": {
    "pycharm": {
     "name": "#%% md\n"
    }
   },
   "source": [
    "### Create a choropleth map yourself\n",
    "\n",
    "Try to create a choropleth map for Wales showing under 5's in the 2011 census.\n",
    "\n",
    "You will need to download and format the data as well as creating the map. If you don't want to download data then try a different area of England which should be in the `la_age_data.csv` file."
   ]
  },
  {
   "cell_type": "code",
   "execution_count": null,
   "metadata": {},
   "outputs": [],
   "source": []
  }
 ],
 "metadata": {
  "kernelspec": {
   "display_name": "Python 3",
   "language": "python",
   "name": "python3"
  },
  "language_info": {
   "codemirror_mode": {
    "name": "ipython",
    "version": 3
   },
   "file_extension": ".py",
   "mimetype": "text/x-python",
   "name": "python",
   "nbconvert_exporter": "python",
   "pygments_lexer": "ipython3",
   "version": "3.7.3"
  }
 },
 "nbformat": 4,
 "nbformat_minor": 1
}